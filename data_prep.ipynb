{
 "cells": [
  {
   "cell_type": "code",
   "execution_count": 1,
   "id": "1717b62a",
   "metadata": {},
   "outputs": [
    {
     "name": "stderr",
     "output_type": "stream",
     "text": [
      "c:\\Users\\Vedant\\AppData\\Local\\Programs\\Python\\Python310\\lib\\site-packages\\tqdm\\auto.py:21: TqdmWarning: IProgress not found. Please update jupyter and ipywidgets. See https://ipywidgets.readthedocs.io/en/stable/user_install.html\n",
      "  from .autonotebook import tqdm as notebook_tqdm\n"
     ]
    }
   ],
   "source": [
    "import json\n",
    "import pandas as pd\n",
    "from datasets import load_dataset"
   ]
  },
  {
   "cell_type": "code",
   "execution_count": 2,
   "id": "72419141",
   "metadata": {},
   "outputs": [],
   "source": [
    "def prepare_daily_mail_cnn_data():\n",
    "    \"\"\"\n",
    "    Prepare Daily Mail and CNN data for fine-tuning\n",
    "    You can use the CNN/Daily Mail dataset from HuggingFace\n",
    "    \"\"\"\n",
    "    \n",
    "    # Option 1: Load from HuggingFace (recommended)\n",
    "    print(\"Loading CNN/Daily Mail dataset...\")\n",
    "    dataset = load_dataset(\"cnn_dailymail\", \"default\")\n",
    "    \n",
    "    train_data = []\n",
    "    for example in dataset['train']:\n",
    "        # Clean and prepare the data\n",
    "        article = example['article'].strip()\n",
    "        summary = example['highlights'].strip()\n",
    "        \n",
    "        # Skip very short articles or summaries\n",
    "        if len(article.split()) < 50 or len(summary.split()) < 10:\n",
    "            continue\n",
    "            \n",
    "        # Limit article length to fit in context window\n",
    "        if len(article.split()) > 1500:  # Leave room for summary\n",
    "            article = ' '.join(article.split()[:1500])\n",
    "        \n",
    "        train_data.append({\n",
    "            'article': article,\n",
    "            'summary': summary\n",
    "        })\n",
    "    \n",
    "    # Take a subset for training (adjust size based on your needs)\n",
    "    train_data = train_data[:10000]  # Use 5k samples for faster training\n",
    "    \n",
    "    # Save to JSON\n",
    "    with open('daily_mail_cnn_train.json', 'w') as f:\n",
    "        json.dump(train_data, f, indent=2)\n",
    "    \n",
    "    print(f\"Prepared {len(train_data)} training examples\")\n",
    "    print(\"Sample:\")\n",
    "    print(f\"Article length: {len(train_data[0]['article'].split())} words\")\n",
    "    print(f\"Summary length: {len(train_data[0]['summary'].split())} words\")\n",
    "    \n",
    "    return train_data"
   ]
  },
  {
   "cell_type": "code",
   "execution_count": 3,
   "id": "f5427a1d",
   "metadata": {},
   "outputs": [
    {
     "name": "stdout",
     "output_type": "stream",
     "text": [
      "Loading CNN/Daily Mail dataset...\n",
      "Prepared 10000 training examples\n",
      "Sample:\n",
      "Article length: 198 words\n",
      "Summary length: 37 words\n"
     ]
    }
   ],
   "source": [
    "if __name__ == \"__main__\":\n",
    "    # Use HuggingFace dataset\n",
    "    data = prepare_daily_mail_cnn_data()"
   ]
  },
  {
   "cell_type": "code",
   "execution_count": null,
   "id": "ee550368",
   "metadata": {},
   "outputs": [],
   "source": []
  }
 ],
 "metadata": {
  "kernelspec": {
   "display_name": "Python 3",
   "language": "python",
   "name": "python3"
  },
  "language_info": {
   "codemirror_mode": {
    "name": "ipython",
    "version": 3
   },
   "file_extension": ".py",
   "mimetype": "text/x-python",
   "name": "python",
   "nbconvert_exporter": "python",
   "pygments_lexer": "ipython3",
   "version": "3.10.11"
  }
 },
 "nbformat": 4,
 "nbformat_minor": 5
}
